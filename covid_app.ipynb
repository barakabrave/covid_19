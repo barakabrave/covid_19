{
 "cells": [
  {
   "cell_type": "code",
   "execution_count": null,
   "id": "cf623cd3-0e9c-4515-bd6e-01a72a9c6278",
   "metadata": {},
   "outputs": [],
   "source": [
    "\n",
    "    \n",
    "    # defining the function which will make the prediction using \n",
    "# the data which the user inputs\n",
    "\n"
   ]
  }
 ],
 "metadata": {
  "kernelspec": {
   "display_name": "Python 3 (ipykernel)",
   "language": "python",
   "name": "python3"
  },
  "language_info": {
   "codemirror_mode": {
    "name": "ipython",
    "version": 3
   },
   "file_extension": ".py",
   "mimetype": "text/x-python",
   "name": "python",
   "nbconvert_exporter": "python",
   "pygments_lexer": "ipython3",
   "version": "3.9.12"
  }
 },
 "nbformat": 4,
 "nbformat_minor": 5
}
